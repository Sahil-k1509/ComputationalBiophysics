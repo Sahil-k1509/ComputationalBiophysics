{
 "cells": [
  {
   "cell_type": "code",
   "execution_count": 175,
   "id": "6d419f34",
   "metadata": {},
   "outputs": [],
   "source": [
    "import tensorflow as tf\n",
    "import tensorflow.keras as keras\n",
    "from tensorflow.keras import layers\n",
    "import numpy as np\n",
    "import pandas as pd\n",
    "import os,sys\n",
    "import pickle\n",
    "import pandas as pd\n",
    "from sklearn.model_selection import train_test_split"
   ]
  },
  {
   "cell_type": "code",
   "execution_count": 176,
   "id": "a893c805",
   "metadata": {},
   "outputs": [],
   "source": [
    "hlaPATH = \"./Scrapper/hla_msa.txt\"\n",
    "afterPcaPATH = './after_pca.txt'\n",
    "epitopePATH = './remove0123_sample100.csv'"
   ]
  },
  {
   "cell_type": "code",
   "execution_count": 177,
   "id": "ca9dbf48",
   "metadata": {},
   "outputs": [],
   "source": [
    "after_pca = np.loadtxt(afterPcaPATH)"
   ]
  },
  {
   "cell_type": "code",
   "execution_count": 178,
   "id": "d60ebff0",
   "metadata": {},
   "outputs": [
    {
     "data": {
      "text/plain": [
       "(21, 12)"
      ]
     },
     "execution_count": 178,
     "metadata": {},
     "output_type": "execute_result"
    }
   ],
   "source": [
    "after_pca.shape"
   ]
  },
  {
   "cell_type": "code",
   "execution_count": 179,
   "id": "1a4c677a",
   "metadata": {},
   "outputs": [],
   "source": [
    "ori = pd.read_csv(epitopePATH)"
   ]
  },
  {
   "cell_type": "code",
   "execution_count": 180,
   "id": "15b5ee05",
   "metadata": {},
   "outputs": [
    {
     "data": {
      "text/html": [
       "<div>\n",
       "<style scoped>\n",
       "    .dataframe tbody tr th:only-of-type {\n",
       "        vertical-align: middle;\n",
       "    }\n",
       "\n",
       "    .dataframe tbody tr th {\n",
       "        vertical-align: top;\n",
       "    }\n",
       "\n",
       "    .dataframe thead th {\n",
       "        text-align: right;\n",
       "    }\n",
       "</style>\n",
       "<table border=\"1\" class=\"dataframe\">\n",
       "  <thead>\n",
       "    <tr style=\"text-align: right;\">\n",
       "      <th></th>\n",
       "      <th>peptide</th>\n",
       "      <th>HLA</th>\n",
       "      <th>immunogenicity</th>\n",
       "      <th>test</th>\n",
       "      <th>respond</th>\n",
       "      <th>potential</th>\n",
       "    </tr>\n",
       "  </thead>\n",
       "  <tbody>\n",
       "    <tr>\n",
       "      <th>0</th>\n",
       "      <td>DYIIKIWKL</td>\n",
       "      <td>HLA-A*2402</td>\n",
       "      <td>Negative</td>\n",
       "      <td>5</td>\n",
       "      <td>0</td>\n",
       "      <td>0.267811</td>\n",
       "    </tr>\n",
       "    <tr>\n",
       "      <th>1</th>\n",
       "      <td>VPVVEDALM</td>\n",
       "      <td>HLA-B*3501</td>\n",
       "      <td>Positive</td>\n",
       "      <td>0</td>\n",
       "      <td>0</td>\n",
       "      <td>0.969088</td>\n",
       "    </tr>\n",
       "    <tr>\n",
       "      <th>2</th>\n",
       "      <td>MMQDREDQSI</td>\n",
       "      <td>HLA-A*0201</td>\n",
       "      <td>Negative</td>\n",
       "      <td>24</td>\n",
       "      <td>0</td>\n",
       "      <td>0.108715</td>\n",
       "    </tr>\n",
       "    <tr>\n",
       "      <th>3</th>\n",
       "      <td>VEMTEPYNL</td>\n",
       "      <td>HLA-B*4402</td>\n",
       "      <td>Negative</td>\n",
       "      <td>4</td>\n",
       "      <td>0</td>\n",
       "      <td>0.294861</td>\n",
       "    </tr>\n",
       "    <tr>\n",
       "      <th>4</th>\n",
       "      <td>FIFSYVVAV</td>\n",
       "      <td>HLA-A*0201</td>\n",
       "      <td>Positive</td>\n",
       "      <td>0</td>\n",
       "      <td>0</td>\n",
       "      <td>0.973914</td>\n",
       "    </tr>\n",
       "  </tbody>\n",
       "</table>\n",
       "</div>"
      ],
      "text/plain": [
       "      peptide         HLA immunogenicity  test  respond  potential\n",
       "0   DYIIKIWKL  HLA-A*2402       Negative     5        0   0.267811\n",
       "1   VPVVEDALM  HLA-B*3501       Positive     0        0   0.969088\n",
       "2  MMQDREDQSI  HLA-A*0201       Negative    24        0   0.108715\n",
       "3   VEMTEPYNL  HLA-B*4402       Negative     4        0   0.294861\n",
       "4   FIFSYVVAV  HLA-A*0201       Positive     0        0   0.973914"
      ]
     },
     "execution_count": 180,
     "metadata": {},
     "output_type": "execute_result"
    }
   ],
   "source": [
    "ori = ori.sample(frac=1, replace=False, random_state = 4).set_index(pd.Index(np.arange(ori.shape[0])))\n",
    "ori.head()"
   ]
  },
  {
   "cell_type": "code",
   "execution_count": 181,
   "id": "62f7fa1c",
   "metadata": {},
   "outputs": [
    {
     "data": {
      "text/plain": [
       "(8971, 6)"
      ]
     },
     "execution_count": 181,
     "metadata": {},
     "output_type": "execute_result"
    }
   ],
   "source": [
    "ori.shape"
   ]
  },
  {
   "cell_type": "code",
   "execution_count": 182,
   "id": "283bba4f",
   "metadata": {},
   "outputs": [],
   "source": [
    "df = pd.read_csv(hlaPATH,header=None,delim_whitespace=True)\n",
    "df.columns = [\"HLA\",\"pseudo\"]"
   ]
  },
  {
   "cell_type": "code",
   "execution_count": 183,
   "id": "a4666ee1",
   "metadata": {},
   "outputs": [
    {
     "data": {
      "text/html": [
       "<div>\n",
       "<style scoped>\n",
       "    .dataframe tbody tr th:only-of-type {\n",
       "        vertical-align: middle;\n",
       "    }\n",
       "\n",
       "    .dataframe tbody tr th {\n",
       "        vertical-align: top;\n",
       "    }\n",
       "\n",
       "    .dataframe thead th {\n",
       "        text-align: right;\n",
       "    }\n",
       "</style>\n",
       "<table border=\"1\" class=\"dataframe\">\n",
       "  <thead>\n",
       "    <tr style=\"text-align: right;\">\n",
       "      <th></th>\n",
       "      <th>HLA</th>\n",
       "      <th>pseudo</th>\n",
       "    </tr>\n",
       "  </thead>\n",
       "  <tbody>\n",
       "    <tr>\n",
       "      <th>0</th>\n",
       "      <td>HLA-A*0101</td>\n",
       "      <td>--MY----------YQE--NMHT--DNTLYIYYR--D--Y-TKW--...</td>\n",
       "    </tr>\n",
       "    <tr>\n",
       "      <th>1</th>\n",
       "      <td>HLA-A*0201</td>\n",
       "      <td>---YMYTY--FM--YERKVAAHT--TVDTLYSRYHYY--IGTKWA-...</td>\n",
       "    </tr>\n",
       "    <tr>\n",
       "      <th>2</th>\n",
       "      <td>HLA-A*0203</td>\n",
       "      <td>---Y-Y---------EK--VAH---TVDTLYR-Y--Y--Y-TKW--...</td>\n",
       "    </tr>\n",
       "    <tr>\n",
       "      <th>3</th>\n",
       "      <td>HLA-A*0205</td>\n",
       "      <td>-------------YY-----YEKVVYD-----YY--R--D-TKW--...</td>\n",
       "    </tr>\n",
       "    <tr>\n",
       "      <th>4</th>\n",
       "      <td>HLA-A*0206</td>\n",
       "      <td>--MY-YM-------YEK--VAHQ--TVDTLYRYH--Y--Y-TKW--...</td>\n",
       "    </tr>\n",
       "    <tr>\n",
       "      <th>...</th>\n",
       "      <td>...</td>\n",
       "      <td>...</td>\n",
       "    </tr>\n",
       "    <tr>\n",
       "      <th>57</th>\n",
       "      <td>HLA-C*0517</td>\n",
       "      <td>-------------MY-----YEK-RQTNKLYRYN--F--Y-TKW--...</td>\n",
       "    </tr>\n",
       "    <tr>\n",
       "      <th>58</th>\n",
       "      <td>HLA-C*0602</td>\n",
       "      <td>-------------MYDS---YEKYRQADVNKLYW--Y--Y-TKW--...</td>\n",
       "    </tr>\n",
       "    <tr>\n",
       "      <th>59</th>\n",
       "      <td>HLA-C*0756</td>\n",
       "      <td>---Y-DFS------YRE--KYQ---AVSNLYRS---D--Y-TKL--...</td>\n",
       "    </tr>\n",
       "    <tr>\n",
       "      <th>60</th>\n",
       "      <td>HLA-C*1510</td>\n",
       "      <td>--MY-----FFM-YYYE----NMQTYVDTIYIYDSDYE--STKWV-...</td>\n",
       "    </tr>\n",
       "    <tr>\n",
       "      <th>61</th>\n",
       "      <td>HLA-C*1604</td>\n",
       "      <td>--YY----------YRN--IFNT--YESNLY--R--Y--Y-TKW--...</td>\n",
       "    </tr>\n",
       "  </tbody>\n",
       "</table>\n",
       "<p>62 rows × 2 columns</p>\n",
       "</div>"
      ],
      "text/plain": [
       "           HLA                                             pseudo\n",
       "0   HLA-A*0101  --MY----------YQE--NMHT--DNTLYIYYR--D--Y-TKW--...\n",
       "1   HLA-A*0201  ---YMYTY--FM--YERKVAAHT--TVDTLYSRYHYY--IGTKWA-...\n",
       "2   HLA-A*0203  ---Y-Y---------EK--VAH---TVDTLYR-Y--Y--Y-TKW--...\n",
       "3   HLA-A*0205  -------------YY-----YEKVVYD-----YY--R--D-TKW--...\n",
       "4   HLA-A*0206  --MY-YM-------YEK--VAHQ--TVDTLYRYH--Y--Y-TKW--...\n",
       "..         ...                                                ...\n",
       "57  HLA-C*0517  -------------MY-----YEK-RQTNKLYRYN--F--Y-TKW--...\n",
       "58  HLA-C*0602  -------------MYDS---YEKYRQADVNKLYW--Y--Y-TKW--...\n",
       "59  HLA-C*0756  ---Y-DFS------YRE--KYQ---AVSNLYRS---D--Y-TKL--...\n",
       "60  HLA-C*1510  --MY-----FFM-YYYE----NMQTYVDTIYIYDSDYE--STKWV-...\n",
       "61  HLA-C*1604  --YY----------YRN--IFNT--YESNLY--R--Y--Y-TKW--...\n",
       "\n",
       "[62 rows x 2 columns]"
      ]
     },
     "execution_count": 183,
     "metadata": {},
     "output_type": "execute_result"
    }
   ],
   "source": [
    "df"
   ]
  },
  {
   "cell_type": "code",
   "execution_count": 184,
   "id": "8b2a0db1",
   "metadata": {},
   "outputs": [],
   "source": [
    "hla_dic = {row[\"HLA\"]:row[\"pseudo\"] for index, row in df.iterrows()}"
   ]
  },
  {
   "cell_type": "code",
   "execution_count": 185,
   "id": "95a68d12",
   "metadata": {},
   "outputs": [
    {
     "data": {
      "text/plain": [
       "'--MY----------YQE--NMHT--DNTLYIYYR--D--Y-TKW--VAQ-RYRGRYTQ-----D'"
      ]
     },
     "execution_count": 185,
     "metadata": {},
     "output_type": "execute_result"
    }
   ],
   "source": [
    "hla_dic[\"HLA-A*0101\"]"
   ]
  },
  {
   "cell_type": "code",
   "execution_count": 186,
   "id": "2ab55828",
   "metadata": {},
   "outputs": [],
   "source": [
    "inventory = list(hla_dic.keys())"
   ]
  },
  {
   "cell_type": "code",
   "execution_count": 187,
   "id": "30ca32ea",
   "metadata": {},
   "outputs": [
    {
     "data": {
      "text/plain": [
       "'HLA-A*0101'"
      ]
     },
     "execution_count": 187,
     "metadata": {},
     "output_type": "execute_result"
    }
   ],
   "source": [
    "inventory[0]"
   ]
  },
  {
   "cell_type": "code",
   "execution_count": 188,
   "id": "1826b465",
   "metadata": {},
   "outputs": [],
   "source": [
    "dic_inventory = {}\n",
    "for hla in inventory:\n",
    "    if hla[4] in dic_inventory:\n",
    "        if hla[6:8] in dic_inventory[hla[4]]:\n",
    "            dic_inventory[hla[4]][hla[6:8]].append(hla[8:])\n",
    "        else:\n",
    "            dic_inventory[hla[4]][hla[6:8]] =[]\n",
    "            dic_inventory[hla[4]][hla[6:8]].append(hla[8:])\n",
    "    else:\n",
    "        dic_inventory[hla[4]] = {}\n",
    "        dic_inventory[hla[4]][hla[6:8]] =[]\n",
    "        dic_inventory[hla[4]][hla[6:8]].append(hla[8:])"
   ]
  },
  {
   "cell_type": "code",
   "execution_count": 189,
   "id": "1f5884d4",
   "metadata": {},
   "outputs": [],
   "source": [
    "# dic_inventory"
   ]
  },
  {
   "cell_type": "code",
   "execution_count": 190,
   "id": "c47ed39b",
   "metadata": {},
   "outputs": [],
   "source": [
    "def rescue_unknown_hla(hla, dic_inventory):\n",
    "    type_ = hla[4]\n",
    "    first2 = hla[6:8]\n",
    "    last2 = hla[8:]\n",
    "    big_category = dic_inventory[type_]\n",
    "    #print(hla)\n",
    "    if not big_category.get(first2) == None:\n",
    "        small_category = big_category.get(first2)\n",
    "        distance = [abs(int(last2) - int(i)) for i in small_category]\n",
    "        optimal = min(zip(small_category, distance), key=lambda x: x[1])[0]\n",
    "        return 'HLA-' + str(type_) + '*' + str(first2) + str(optimal)\n",
    "    else:\n",
    "        small_category = list(big_category.keys())\n",
    "        distance = [abs(int(first2) - int(i)) for i in small_category]\n",
    "        optimal = min(zip(small_category, distance), key=lambda x: x[1])[0]\n",
    "        return 'HLA-' + str(type_) + '*' + str(optimal) + str(big_category[optimal][0])\n",
    "\n",
    "def aaindex(peptide,after_pca):\n",
    "\n",
    "    amino = 'ARNDCQEGHILKMFPSTWYV-'\n",
    "    matrix = np.transpose(after_pca)   # [12,21]\n",
    "    encoded = np.empty([len(peptide), 12])  # (seq_len,12)\n",
    "    for i in range(len(peptide)):\n",
    "        query = peptide[i]\n",
    "        if query == 'X': query = '-'\n",
    "        query = query.upper()\n",
    "        encoded[i, :] = matrix[:, amino.index(query)]\n",
    "\n",
    "    return encoded\n",
    "\n",
    "def hla_data_aaindex(hla_dic,hla_type,after_pca,dic_inventory):    # return numpy array [34,12,1]\n",
    "    try:\n",
    "        seq = hla_dic[hla_type]\n",
    "    except KeyError:\n",
    "        hla_type = rescue_unknown_hla(hla_type,dic_inventory)\n",
    "        seq = hla_dic[hla_type]\n",
    "    encode = aaindex(seq,after_pca)\n",
    "    encode = encode.reshape(encode.shape[0], encode.shape[1], -1)\n",
    "    return encode\n",
    "\n",
    "def peptide_data_aaindex(peptide,after_pca):   # return numpy array [10,12,1]\n",
    "    length = len(peptide)\n",
    "    if length == 10:\n",
    "        encode = aaindex(peptide,after_pca)\n",
    "    elif length == 9:\n",
    "        peptide = peptide[:5] + '-' + peptide[5:]\n",
    "        encode = aaindex(peptide,after_pca)\n",
    "    encode = encode.reshape(encode.shape[0], encode.shape[1], -1)\n",
    "    return encode\n",
    "\n",
    "\n",
    "def construct_aaindex(ori,hla_dic,after_pca,dic_inventory):\n",
    "    series = []\n",
    "#     res = pd.DataFrame(columns = ['encode_pep', 'encode_hla', 'immuno'])\n",
    "    for i in range(ori.shape[0]):\n",
    "        peptide = ori['peptide'].iloc[i]\n",
    "        hla_type = ori['HLA'].iloc[i]\n",
    "        immuno = np.array(ori['potential'].iloc[i]).reshape(1,-1)   # [1,1]\n",
    "\n",
    "        encode_pep = peptide_data_aaindex(peptide,after_pca)    # [10,12]\n",
    "\n",
    "        encode_hla = hla_data_aaindex(hla_dic,hla_type,after_pca,dic_inventory)   # [64,12]\n",
    "#         res.loc[i] = [encode_pep.reshape(10,12).astype(float), encode_hla.reshape(64,12).astype(float), immuno]\n",
    "        series.append((encode_pep, encode_hla, immuno))\n",
    "#     return res\n",
    "    return series"
   ]
  },
  {
   "cell_type": "code",
   "execution_count": 191,
   "id": "2244d370",
   "metadata": {},
   "outputs": [],
   "source": [
    "# dataset = construct_aaindex(ori, hla_dic, after_pca,dic_inventory)\n",
    "dataset = construct_aaindex(ori, hla_dic, after_pca,dic_inventory)"
   ]
  },
  {
   "cell_type": "code",
   "execution_count": 192,
   "id": "2c1d12cd",
   "metadata": {},
   "outputs": [],
   "source": [
    "input1 = np.empty([len(dataset),10,12,1])\n",
    "input2 = np.empty([len(dataset),64,12,1])\n",
    "label = np.empty([len(dataset),1])\n",
    "\n",
    "for i in range(len(dataset)):\n",
    "    input1[i,:,:,:] = dataset[i][0]\n",
    "    input2[i,:,:,:] = dataset[i][1]\n",
    "    label[i,:] = dataset[i][2]\n"
   ]
  },
  {
   "cell_type": "code",
   "execution_count": 193,
   "id": "292c9169",
   "metadata": {},
   "outputs": [],
   "source": [
    "# dataset.shape"
   ]
  },
  {
   "cell_type": "code",
   "execution_count": 194,
   "id": "d76b2873",
   "metadata": {},
   "outputs": [],
   "source": [
    "# X_train, X_test, y_train, y_test = train_test_split(dataset.drop(['immuno'], axis=1), dataset[\"immuno\"], test_size=0.1, random_state=4)"
   ]
  },
  {
   "cell_type": "code",
   "execution_count": 195,
   "id": "8204ede0",
   "metadata": {},
   "outputs": [],
   "source": [
    "# input1_train = X_train[\"encode_pep\"]\n",
    "# input1_val = X_test[\"encode_pep\"]\n",
    "# input1_train[0].shape"
   ]
  },
  {
   "cell_type": "code",
   "execution_count": 196,
   "id": "a3606573",
   "metadata": {},
   "outputs": [],
   "source": [
    "# input1_train[0]"
   ]
  },
  {
   "cell_type": "code",
   "execution_count": 197,
   "id": "4316dfa3",
   "metadata": {},
   "outputs": [],
   "source": [
    "# tempdata = copy.deepcopy(input1_train[0])"
   ]
  },
  {
   "cell_type": "code",
   "execution_count": 198,
   "id": "f8d5aecf",
   "metadata": {},
   "outputs": [],
   "source": [
    "# tempdata2 = copy.deepcopy(tempdata)"
   ]
  },
  {
   "cell_type": "code",
   "execution_count": 199,
   "id": "de265dbc",
   "metadata": {},
   "outputs": [],
   "source": [
    "# input1_train.shape[0]"
   ]
  },
  {
   "cell_type": "code",
   "execution_count": 200,
   "id": "d68c7c95",
   "metadata": {},
   "outputs": [],
   "source": [
    "# tempdata"
   ]
  },
  {
   "cell_type": "code",
   "execution_count": 201,
   "id": "c34ae250",
   "metadata": {},
   "outputs": [],
   "source": [
    "# temp_array = np.empty(input1_train.shape[0])\n",
    "# for i in range(input1_train.shape[0]):\n",
    "#     temp_array[i] = tf.convert_to_tensor(input1_train[i])\n",
    "# temp_array"
   ]
  },
  {
   "cell_type": "code",
   "execution_count": 202,
   "id": "ea73cff7",
   "metadata": {},
   "outputs": [],
   "source": [
    "# input2_train = X_train[\"encode_hla\"]\n",
    "# input2_val = X_test[\"encode_hla\"]\n",
    "# input2_train[0].shape"
   ]
  },
  {
   "cell_type": "code",
   "execution_count": 203,
   "id": "87b74537",
   "metadata": {},
   "outputs": [],
   "source": [
    "# y_train = y_train.to_numpy().reshape(y_train.shape[0],-1)"
   ]
  },
  {
   "cell_type": "code",
   "execution_count": 204,
   "id": "4b50fdd9",
   "metadata": {},
   "outputs": [],
   "source": [
    "# y_test = y_test.to_numpy().reshape(y_test.shape[0],-1)"
   ]
  },
  {
   "cell_type": "code",
   "execution_count": 205,
   "id": "41c02b82",
   "metadata": {},
   "outputs": [],
   "source": [
    "# tf.convert_to_tensor(np.asarray(input1_train))"
   ]
  },
  {
   "cell_type": "code",
   "execution_count": 206,
   "id": "33bee374",
   "metadata": {},
   "outputs": [
    {
     "data": {
      "text/plain": [
       "(8073,)"
      ]
     },
     "execution_count": 206,
     "metadata": {},
     "output_type": "execute_result"
    }
   ],
   "source": [
    "y_train.shape"
   ]
  },
  {
   "cell_type": "code",
   "execution_count": 207,
   "id": "f13bf068",
   "metadata": {},
   "outputs": [],
   "source": [
    "# input1.shape"
   ]
  },
  {
   "cell_type": "code",
   "execution_count": 208,
   "id": "bc2bfa56",
   "metadata": {},
   "outputs": [],
   "source": [
    "array = np.arange(len(dataset))\n",
    "train_index = np.random.choice(array,int(len(dataset)*0.9),replace=False)\n",
    "valid_index = [item for item in array if item not in train_index]\n",
    "input1_train = input1[train_index]\n",
    "input1_val = input1[valid_index]\n",
    "input2_train = input2[train_index]\n",
    "input2_val = input2[valid_index]\n",
    "label_train = label[train_index]\n",
    "label_val = label[valid_index]"
   ]
  },
  {
   "cell_type": "code",
   "execution_count": 209,
   "id": "19473434",
   "metadata": {},
   "outputs": [],
   "source": [
    "# len(label_val)"
   ]
  },
  {
   "cell_type": "code",
   "execution_count": 213,
   "id": "36052236",
   "metadata": {},
   "outputs": [],
   "source": [
    "def buildCNN():\n",
    "    input_pep = keras.Input(shape=(10, 12, 1))\n",
    "    input_mhc = keras.Input(shape=(64, 12, 1))\n",
    "\n",
    "    x = layers.Conv2D(filters=16, kernel_size=(2, 12))(input_pep)  # 9\n",
    "    x = layers.BatchNormalization()(x)\n",
    "    x = keras.activations.relu(x)\n",
    "    x = layers.Conv2D(filters=32, kernel_size=(2, 1))(x)    # 8\n",
    "    x = layers.BatchNormalization()(x)\n",
    "    x = keras.activations.relu(x)\n",
    "    x = layers.MaxPool2D(pool_size=(2, 1), strides=(2, 1))(x)  # 4\n",
    "    x = layers.Flatten()(x)\n",
    "    x = keras.Model(inputs=input_pep, outputs=x)\n",
    "\n",
    "    y = layers.Conv2D(filters=16, kernel_size=(33, 12))(input_mhc)     # 32\n",
    "    y = layers.BatchNormalization()(y)\n",
    "    y = keras.activations.relu(y)\n",
    "    y = layers.MaxPool2D(pool_size=(2, 1), strides=(2, 1))(y)  # 16\n",
    "    y = layers.Conv2D(filters=32,kernel_size=(9,1))(y)    # 8\n",
    "    y = layers.BatchNormalization()(y)\n",
    "    y = keras.activations.relu(y)\n",
    "    y = layers.MaxPool2D(pool_size=(2, 1),strides=(2,1))(y)  # 4\n",
    "    y = layers.Flatten()(y)\n",
    "    y = keras.Model(inputs=input_mhc,outputs=y)\n",
    "\n",
    "    combined = layers.concatenate([x.output,y.output])\n",
    "    z = layers.Dense(128,activation='relu')(combined)\n",
    "    z = layers.Dropout(0.2)(z)\n",
    "    z = layers.Dense(1,activation='sigmoid')(z)\n",
    "\n",
    "    model = keras.Model(inputs=[input_pep,input_mhc],outputs=z)\n",
    "    return model"
   ]
  },
  {
   "cell_type": "code",
   "execution_count": 214,
   "id": "2efcc149",
   "metadata": {},
   "outputs": [],
   "source": [
    "# x=[tf.convert_to_tensor(input1_train),tf.convert_to_tensor(input2_train)]"
   ]
  },
  {
   "cell_type": "code",
   "execution_count": 215,
   "id": "b5fe9def",
   "metadata": {},
   "outputs": [],
   "source": [
    "# print(x)"
   ]
  },
  {
   "cell_type": "code",
   "execution_count": 226,
   "id": "4de75dbd",
   "metadata": {},
   "outputs": [
    {
     "name": "stdout",
     "output_type": "stream",
     "text": [
      "Epoch 1/200\n",
      "64/64 [==============================] - 1s 9ms/step - loss: 0.1068 - val_loss: 0.1028\n",
      "Epoch 2/200\n",
      "64/64 [==============================] - 1s 8ms/step - loss: 0.0935 - val_loss: 0.0897\n",
      "Epoch 3/200\n",
      "64/64 [==============================] - 0s 7ms/step - loss: 0.0897 - val_loss: 0.0890\n",
      "Epoch 4/200\n",
      "64/64 [==============================] - 0s 7ms/step - loss: 0.0874 - val_loss: 0.0841\n",
      "Epoch 5/200\n",
      "64/64 [==============================] - 0s 7ms/step - loss: 0.0851 - val_loss: 0.0829\n",
      "Epoch 6/200\n",
      "64/64 [==============================] - 0s 7ms/step - loss: 0.0848 - val_loss: 0.0817\n",
      "Epoch 7/200\n",
      "64/64 [==============================] - 0s 8ms/step - loss: 0.0829 - val_loss: 0.0815\n",
      "Epoch 8/200\n",
      "64/64 [==============================] - 0s 8ms/step - loss: 0.0826 - val_loss: 0.0811\n",
      "Epoch 9/200\n",
      "64/64 [==============================] - 0s 8ms/step - loss: 0.0815 - val_loss: 0.0811\n",
      "Epoch 10/200\n",
      "64/64 [==============================] - 0s 8ms/step - loss: 0.0807 - val_loss: 0.0809\n",
      "Epoch 11/200\n",
      "64/64 [==============================] - 0s 7ms/step - loss: 0.0806 - val_loss: 0.0807\n",
      "Epoch 12/200\n",
      "64/64 [==============================] - 0s 7ms/step - loss: 0.0789 - val_loss: 0.0796\n",
      "Epoch 13/200\n",
      "64/64 [==============================] - 1s 8ms/step - loss: 0.0792 - val_loss: 0.0804\n",
      "Epoch 14/200\n",
      "64/64 [==============================] - 0s 8ms/step - loss: 0.0777 - val_loss: 0.0804\n",
      "Epoch 15/200\n",
      "64/64 [==============================] - 0s 7ms/step - loss: 0.0780 - val_loss: 0.0793\n",
      "Epoch 16/200\n",
      "64/64 [==============================] - 1s 8ms/step - loss: 0.0774 - val_loss: 0.0791\n",
      "Epoch 17/200\n",
      "64/64 [==============================] - 0s 7ms/step - loss: 0.0765 - val_loss: 0.0803\n",
      "Epoch 18/200\n",
      "64/64 [==============================] - 0s 7ms/step - loss: 0.0761 - val_loss: 0.0790\n",
      "Epoch 19/200\n",
      "64/64 [==============================] - 0s 7ms/step - loss: 0.0755 - val_loss: 0.0796\n",
      "Epoch 20/200\n",
      "64/64 [==============================] - 0s 7ms/step - loss: 0.0756 - val_loss: 0.0789\n",
      "Epoch 21/200\n",
      "64/64 [==============================] - 0s 7ms/step - loss: 0.0746 - val_loss: 0.0794\n",
      "Epoch 22/200\n",
      "64/64 [==============================] - 0s 8ms/step - loss: 0.0756 - val_loss: 0.0787\n",
      "Epoch 23/200\n",
      "64/64 [==============================] - 0s 7ms/step - loss: 0.0739 - val_loss: 0.0804\n",
      "Epoch 24/200\n",
      "64/64 [==============================] - 0s 7ms/step - loss: 0.0732 - val_loss: 0.0788\n",
      "Epoch 25/200\n",
      "64/64 [==============================] - 0s 7ms/step - loss: 0.0737 - val_loss: 0.0791\n",
      "Epoch 26/200\n",
      "64/64 [==============================] - 0s 8ms/step - loss: 0.0728 - val_loss: 0.0786\n",
      "Epoch 27/200\n",
      "64/64 [==============================] - 0s 8ms/step - loss: 0.0723 - val_loss: 0.0791\n",
      "Epoch 28/200\n",
      "64/64 [==============================] - 0s 7ms/step - loss: 0.0714 - val_loss: 0.0785\n",
      "Epoch 29/200\n",
      "64/64 [==============================] - 0s 7ms/step - loss: 0.0718 - val_loss: 0.0788\n",
      "Epoch 30/200\n",
      "64/64 [==============================] - 0s 8ms/step - loss: 0.0712 - val_loss: 0.0787\n",
      "Epoch 31/200\n",
      "64/64 [==============================] - 0s 8ms/step - loss: 0.0710 - val_loss: 0.0786\n",
      "Epoch 32/200\n",
      "64/64 [==============================] - 0s 7ms/step - loss: 0.0704 - val_loss: 0.0787\n",
      "Epoch 33/200\n",
      "64/64 [==============================] - 0s 7ms/step - loss: 0.0705 - val_loss: 0.0798\n",
      "Epoch 34/200\n",
      "64/64 [==============================] - 0s 7ms/step - loss: 0.0703 - val_loss: 0.0785\n",
      "Epoch 35/200\n",
      "64/64 [==============================] - 0s 7ms/step - loss: 0.0691 - val_loss: 0.0785\n",
      "Epoch 36/200\n",
      "64/64 [==============================] - 0s 8ms/step - loss: 0.0692 - val_loss: 0.0785\n",
      "Epoch 37/200\n",
      "64/64 [==============================] - 0s 7ms/step - loss: 0.0687 - val_loss: 0.0791\n",
      "Epoch 38/200\n",
      "64/64 [==============================] - 1s 8ms/step - loss: 0.0682 - val_loss: 0.0793\n",
      "Epoch 39/200\n",
      "64/64 [==============================] - 0s 7ms/step - loss: 0.0689 - val_loss: 0.0789\n",
      "Epoch 40/200\n",
      "64/64 [==============================] - 0s 7ms/step - loss: 0.0681 - val_loss: 0.0785\n",
      "Epoch 41/200\n",
      "64/64 [==============================] - 0s 7ms/step - loss: 0.0680 - val_loss: 0.0784\n",
      "Epoch 42/200\n",
      "64/64 [==============================] - 0s 7ms/step - loss: 0.0673 - val_loss: 0.0783\n",
      "Epoch 43/200\n",
      "64/64 [==============================] - 0s 7ms/step - loss: 0.0669 - val_loss: 0.0793\n",
      "Epoch 44/200\n",
      "64/64 [==============================] - 0s 8ms/step - loss: 0.0670 - val_loss: 0.0795\n",
      "Epoch 45/200\n",
      "64/64 [==============================] - 0s 7ms/step - loss: 0.0663 - val_loss: 0.0784\n",
      "Epoch 46/200\n",
      "64/64 [==============================] - 0s 8ms/step - loss: 0.0658 - val_loss: 0.0785\n",
      "Epoch 47/200\n",
      "64/64 [==============================] - 1s 8ms/step - loss: 0.0657 - val_loss: 0.0783\n",
      "Epoch 48/200\n",
      "64/64 [==============================] - 0s 7ms/step - loss: 0.0654 - val_loss: 0.0790\n",
      "Epoch 49/200\n",
      "64/64 [==============================] - 0s 8ms/step - loss: 0.0648 - val_loss: 0.0783\n",
      "Epoch 50/200\n",
      "64/64 [==============================] - 0s 7ms/step - loss: 0.0648 - val_loss: 0.0784\n",
      "Epoch 51/200\n",
      "64/64 [==============================] - 1s 8ms/step - loss: 0.0647 - val_loss: 0.0779\n",
      "Epoch 52/200\n",
      "64/64 [==============================] - 0s 7ms/step - loss: 0.0640 - val_loss: 0.0788\n",
      "Epoch 53/200\n",
      "64/64 [==============================] - 0s 7ms/step - loss: 0.0637 - val_loss: 0.0783\n",
      "Epoch 54/200\n",
      "64/64 [==============================] - 0s 8ms/step - loss: 0.0634 - val_loss: 0.0784\n",
      "Epoch 55/200\n",
      "64/64 [==============================] - 1s 8ms/step - loss: 0.0633 - val_loss: 0.0781\n",
      "Epoch 56/200\n",
      "64/64 [==============================] - 1s 8ms/step - loss: 0.0632 - val_loss: 0.0779\n",
      "Epoch 57/200\n",
      "64/64 [==============================] - 1s 8ms/step - loss: 0.0624 - val_loss: 0.0783\n",
      "Epoch 58/200\n",
      "64/64 [==============================] - 0s 7ms/step - loss: 0.0626 - val_loss: 0.0781\n",
      "Epoch 59/200\n",
      "64/64 [==============================] - 0s 7ms/step - loss: 0.0625 - val_loss: 0.0782\n"
     ]
    }
   ],
   "source": [
    "cnn_model = buildCNN()\n",
    "cnn_model.compile(\n",
    "    loss=keras.losses.MeanSquaredError(),\n",
    "    optimizer=keras.optimizers.Adam(learning_rate=0.0001),\n",
    "#     metrics=['accuracy']\n",
    "    )\n",
    "\n",
    "callback_val = keras.callbacks.EarlyStopping(monitor='val_loss', patience=15,restore_best_weights=False)\n",
    "callback_train = keras.callbacks.EarlyStopping(monitor='loss',patience=2,restore_best_weights=False)\n",
    "\n",
    "history = cnn_model.fit(\n",
    "    x=[input1_train,input2_train],   # feed a list into\n",
    "    y=label_train,\n",
    "    validation_data = ([input1_val,input2_val],label_val),\n",
    "    batch_size=128,\n",
    "    epochs=200,\n",
    "#     class_weight = {0:0.5,1:0.5},   # I have 20% positive and 80% negative in my training data\n",
    "    callbacks = [callback_val,callback_train]\n",
    "    )"
   ]
  },
  {
   "cell_type": "code",
   "execution_count": null,
   "id": "cf7459fb",
   "metadata": {},
   "outputs": [],
   "source": [
    "# x=[input1_train.reshape(input1_train.shape[0],-1),input2_train.reshape(input2_train.shape[0],-1)]"
   ]
  },
  {
   "cell_type": "code",
   "execution_count": null,
   "id": "e3b63789",
   "metadata": {},
   "outputs": [],
   "source": [
    "# x[0].astype(float)"
   ]
  },
  {
   "cell_type": "code",
   "execution_count": 227,
   "id": "0dc13196",
   "metadata": {},
   "outputs": [
    {
     "data": {
      "image/png": "[encoded data removed]",
      "text/plain": [
       "<Figure size 640x480 with 1 Axes>"
      ]
     },
     "metadata": {},
     "output_type": "display_data"
    }
   ],
   "source": [
    "draw_history(history)"
   ]
  },
  {
   "cell_type": "code",
   "execution_count": 127,
   "id": "becf16f4",
   "metadata": {},
   "outputs": [],
   "source": [
    "def draw_history(history):\n",
    "    import matplotlib.pyplot as plt\n",
    "    plt.plot()\n",
    "    plt.title('Loss')\n",
    "    plt.plot(history.history['loss'], label='train')\n",
    "    plt.plot(history.history['val_loss'], label='validation')\n",
    "    plt.legend()"
   ]
  },
  {
   "cell_type": "code",
   "execution_count": 130,
   "id": "728b12dd",
   "metadata": {},
   "outputs": [
    {
     "name": "stdout",
     "output_type": "stream",
     "text": [
      "Model: \"model_20\"\n",
      "__________________________________________________________________________________________________\n",
      " Layer (type)                   Output Shape         Param #     Connected to                     \n",
      "==================================================================================================\n",
      " input_16 (InputLayer)          [(None, 64, 12, 1)]  0           []                               \n",
      "                                                                                                  \n",
      " input_15 (InputLayer)          [(None, 10, 12, 1)]  0           []                               \n",
      "                                                                                                  \n",
      " conv2d_28 (Conv2D)             (None, 32, 1, 16)    6352        ['input_16[0][0]']               \n",
      "                                                                                                  \n",
      " conv2d_26 (Conv2D)             (None, 9, 1, 16)     400         ['input_15[0][0]']               \n",
      "                                                                                                  \n",
      " batch_normalization_28 (BatchN  (None, 32, 1, 16)   64          ['conv2d_28[0][0]']              \n",
      " ormalization)                                                                                    \n",
      "                                                                                                  \n",
      " batch_normalization_26 (BatchN  (None, 9, 1, 16)    64          ['conv2d_26[0][0]']              \n",
      " ormalization)                                                                                    \n",
      "                                                                                                  \n",
      " tf.nn.relu_28 (TFOpLambda)     (None, 32, 1, 16)    0           ['batch_normalization_28[0][0]'] \n",
      "                                                                                                  \n",
      " tf.nn.relu_26 (TFOpLambda)     (None, 9, 1, 16)     0           ['batch_normalization_26[0][0]'] \n",
      "                                                                                                  \n",
      " max_pooling2d_20 (MaxPooling2D  (None, 16, 1, 16)   0           ['tf.nn.relu_28[0][0]']          \n",
      " )                                                                                                \n",
      "                                                                                                  \n",
      " conv2d_27 (Conv2D)             (None, 8, 1, 32)     1056        ['tf.nn.relu_26[0][0]']          \n",
      "                                                                                                  \n",
      " conv2d_29 (Conv2D)             (None, 8, 1, 32)     4640        ['max_pooling2d_20[0][0]']       \n",
      "                                                                                                  \n",
      " batch_normalization_27 (BatchN  (None, 8, 1, 32)    128         ['conv2d_27[0][0]']              \n",
      " ormalization)                                                                                    \n",
      "                                                                                                  \n",
      " batch_normalization_29 (BatchN  (None, 8, 1, 32)    128         ['conv2d_29[0][0]']              \n",
      " ormalization)                                                                                    \n",
      "                                                                                                  \n",
      " tf.nn.relu_27 (TFOpLambda)     (None, 8, 1, 32)     0           ['batch_normalization_27[0][0]'] \n",
      "                                                                                                  \n",
      " tf.nn.relu_29 (TFOpLambda)     (None, 8, 1, 32)     0           ['batch_normalization_29[0][0]'] \n",
      "                                                                                                  \n",
      " max_pooling2d_19 (MaxPooling2D  (None, 4, 1, 32)    0           ['tf.nn.relu_27[0][0]']          \n",
      " )                                                                                                \n",
      "                                                                                                  \n",
      " max_pooling2d_21 (MaxPooling2D  (None, 4, 1, 32)    0           ['tf.nn.relu_29[0][0]']          \n",
      " )                                                                                                \n",
      "                                                                                                  \n",
      " flatten_13 (Flatten)           (None, 128)          0           ['max_pooling2d_19[0][0]']       \n",
      "                                                                                                  \n",
      " flatten_14 (Flatten)           (None, 128)          0           ['max_pooling2d_21[0][0]']       \n",
      "                                                                                                  \n",
      " concatenate_6 (Concatenate)    (None, 256)          0           ['flatten_13[0][0]',             \n",
      "                                                                  'flatten_14[0][0]']             \n",
      "                                                                                                  \n",
      " dense_12 (Dense)               (None, 128)          32896       ['concatenate_6[0][0]']          \n",
      "                                                                                                  \n",
      " dropout_6 (Dropout)            (None, 128)          0           ['dense_12[0][0]']               \n",
      "                                                                                                  \n",
      " dense_13 (Dense)               (None, 1)            129         ['dropout_6[0][0]']              \n",
      "                                                                                                  \n",
      "==================================================================================================\n",
      "Total params: 45,857\n",
      "Trainable params: 45,665\n",
      "Non-trainable params: 192\n",
      "__________________________________________________________________________________________________\n"
     ]
    }
   ],
   "source": [
    "cnn_model.summary()"
   ]
  },
  {
   "cell_type": "code",
   "execution_count": 228,
   "id": "1e757c75",
   "metadata": {},
   "outputs": [
    {
     "name": "stdout",
     "output_type": "stream",
     "text": [
      "29/29 [==============================] - 0s 1ms/step\n"
     ]
    },
    {
     "data": {
      "text/plain": [
       "(898, 1)"
      ]
     },
     "execution_count": 228,
     "metadata": {},
     "output_type": "execute_result"
    }
   ],
   "source": [
    "# binary classification accuracy\n",
    "predictions = cnn_model.predict([input1_val,input2_val])\n",
    "predictions.shape"
   ]
  },
  {
   "cell_type": "code",
   "execution_count": 232,
   "id": "9ebf2c03",
   "metadata": {},
   "outputs": [
    {
     "name": "stdout",
     "output_type": "stream",
     "text": [
      "Accuracy :  0.7728285077951003\n"
     ]
    }
   ],
   "source": [
    "exact_match = 0\n",
    "for i in range(len(predictions)):\n",
    "    if predictions[i]>0.5 and label_val[i]>0.5:\n",
    "        exact_match+=1\n",
    "    elif predictions[i]<=0.5 and label_val[i]<=0.5:\n",
    "        exact_match+=1\n",
    "    else:\n",
    "        continue\n",
    "print(\"Accuracy : \",exact_match/len(predictions))"
   ]
  },
  {
   "cell_type": "code",
   "execution_count": null,
   "id": "bf144597",
   "metadata": {},
   "outputs": [],
   "source": []
  },
  {
   "cell_type": "code",
   "execution_count": null,
   "id": "b03cbb75",
   "metadata": {},
   "outputs": [],
   "source": []
  },
  {
   "cell_type": "code",
   "execution_count": 239,
   "id": "98faa7e4",
   "metadata": {},
   "outputs": [],
   "source": [
    "def buildCNN2():\n",
    "    input_pep = keras.Input(shape=(10, 12, 1))\n",
    "    input_mhc = keras.Input(shape=(64, 12, 1))\n",
    "\n",
    "    x = layers.Conv2D(filters=16, kernel_size=(2, 12))(input_pep)  # 9\n",
    "    x = layers.BatchNormalization()(x)\n",
    "    x = keras.activations.relu(x)\n",
    "    x = layers.Conv2D(filters=32, kernel_size=(2, 1))(x)    # 8\n",
    "    x = layers.BatchNormalization()(x)\n",
    "    x = keras.activations.relu(x)\n",
    "    x = layers.MaxPool2D(pool_size=(2, 1), strides=(2, 1))(x)  # 4\n",
    "    x = layers.Flatten()(x)\n",
    "    x = keras.Model(inputs=input_pep, outputs=x)\n",
    "\n",
    "    y = layers.Conv2D(filters=16, kernel_size=(33, 12))(input_mhc)     # 32\n",
    "    y = layers.BatchNormalization()(y)\n",
    "    y = keras.activations.relu(y)\n",
    "    y = layers.MaxPool2D(pool_size=(2, 1), strides=(2, 1))(y)  # 16\n",
    "    y = layers.Conv2D(filters=32,kernel_size=(9,1))(y)    # 8\n",
    "    y = layers.BatchNormalization()(y)\n",
    "    y = keras.activations.relu(y)\n",
    "    y = layers.MaxPool2D(pool_size=(2, 1),strides=(2,1))(y)  # 4\n",
    "    y = layers.Flatten()(y)\n",
    "    y = keras.Model(inputs=input_mhc,outputs=y)\n",
    "\n",
    "    combined = layers.concatenate([x.output,y.output])\n",
    "    z = layers.Dense(128,activation='relu')(combined)\n",
    "    z = layers.Dropout(0.2)(z)\n",
    "    z = layers.Dense(1,activation='sigmoid')(z)\n",
    "\n",
    "    model = keras.Model(inputs=[input_pep,input_mhc],outputs=z)\n",
    "    return model"
   ]
  },
  {
   "cell_type": "code",
   "execution_count": 240,
   "id": "2fcd5c41",
   "metadata": {},
   "outputs": [
    {
     "name": "stdout",
     "output_type": "stream",
     "text": [
      "Epoch 1/200\n",
      "64/64 [==============================] - 0s 7ms/step - loss: 0.0606 - val_loss: 0.0785\n",
      "Epoch 2/200\n",
      "64/64 [==============================] - 0s 7ms/step - loss: 0.0604 - val_loss: 0.0781\n",
      "Epoch 3/200\n",
      "64/64 [==============================] - 0s 7ms/step - loss: 0.0607 - val_loss: 0.0785\n",
      "Epoch 4/200\n",
      "64/64 [==============================] - 0s 7ms/step - loss: 0.0610 - val_loss: 0.0792\n"
     ]
    }
   ],
   "source": [
    "cnn_model2 = buildCNN2()\n",
    "cnn_model2.compile(\n",
    "    loss=keras.losses.MeanSquaredError(),\n",
    "    optimizer=keras.optimizers.Adam(learning_rate=0.0001),\n",
    "#     metrics=['accuracy']\n",
    "    )\n",
    "\n",
    "callback_val = keras.callbacks.EarlyStopping(monitor='val_loss', patience=15,restore_best_weights=False)\n",
    "callback_train = keras.callbacks.EarlyStopping(monitor='loss',patience=2,restore_best_weights=False)\n",
    "\n",
    "history = cnn_model.fit(\n",
    "    x=[input1_train,input2_train],   # feed a list into\n",
    "    y=label_train,\n",
    "    validation_data = ([input1_val,input2_val],label_val),\n",
    "    batch_size=128,\n",
    "    epochs=200,\n",
    "#     class_weight = {0:0.5,1:0.5},   # I have 20% positive and 80% negative in my training data\n",
    "    callbacks = [callback_val,callback_train]\n",
    "    )"
   ]
  },
  {
   "cell_type": "code",
   "execution_count": 241,
   "id": "2f4d6293",
   "metadata": {},
   "outputs": [
    {
     "name": "stdout",
     "output_type": "stream",
     "text": [
      "29/29 [==============================] - 0s 1ms/step\n",
      "Accuracy :  0.5623608017817372\n"
     ]
    }
   ],
   "source": [
    "# binary classification accuracy\n",
    "predictions2 = cnn_model2.predict([input1_val,input2_val])\n",
    "# predictions2.shape\n",
    "exact_match2 = 0\n",
    "for i in range(len(predictions)):\n",
    "    if predictions2[i]>0.5 and label_val[i]>0.5:\n",
    "        exact_match2+=1\n",
    "    elif predictions2[i]<=0.5 and label_val[i]<=0.5:\n",
    "        exact_match2+=1\n",
    "    else:\n",
    "        continue\n",
    "print(\"Accuracy : \",exact_match2/len(predictions2))"
   ]
  },
  {
   "cell_type": "code",
   "execution_count": 236,
   "id": "9c47c8b2",
   "metadata": {},
   "outputs": [],
   "source": [
    "# draw_history(history)"
   ]
  },
  {
   "cell_type": "code",
   "execution_count": null,
   "id": "011b4f8e",
   "metadata": {},
   "outputs": [],
   "source": []
  },
  {
   "cell_type": "code",
   "execution_count": null,
   "id": "23b0b431",
   "metadata": {},
   "outputs": [],
   "source": []
  },
  {
   "cell_type": "code",
   "execution_count": null,
   "id": "bf04ef2b",
   "metadata": {},
   "outputs": [],
   "source": []
  },
  {
   "cell_type": "code",
   "execution_count": null,
   "id": "9d3bded0",
   "metadata": {},
   "outputs": [],
   "source": []
  },
  {
   "cell_type": "code",
   "execution_count": null,
   "id": "272fe656",
   "metadata": {},
   "outputs": [],
   "source": []
  },
  {
   "cell_type": "code",
   "execution_count": null,
   "id": "acc3c317",
   "metadata": {},
   "outputs": [],
   "source": []
  },
  {
   "cell_type": "code",
   "execution_count": null,
   "id": "7beeeae9",
   "metadata": {},
   "outputs": [],
   "source": []
  },
  {
   "cell_type": "code",
   "execution_count": null,
   "id": "4088c9a4",
   "metadata": {},
   "outputs": [],
   "source": []
  },
  {
   "cell_type": "code",
   "execution_count": null,
   "id": "11c32d80",
   "metadata": {},
   "outputs": [],
   "source": []
  },
  {
   "cell_type": "code",
   "execution_count": null,
   "id": "9834c9c4",
   "metadata": {},
   "outputs": [],
   "source": [
    "cnn_model = seperateCNN()\n",
    "cnn_model.compile(\n",
    "    loss=keras.losses.MeanSquaredError(),\n",
    "    optimizer=keras.optimizers.Adam(lr=0.0001),\n",
    "    metrics=['accuracy'])\n",
    "\n",
    "callback_val = keras.callbacks.EarlyStopping(monitor='val_loss', patience=15,restore_best_weights=False)\n",
    "callback_train = keras.callbacks.EarlyStopping(monitor='loss',patience=2,restore_best_weights=False)\n",
    "history = cnn_model.fit(\n",
    "    x=[input1_train,input2_train],   # feed a list into\n",
    "    y=label_train,\n",
    "    validation_data = ([input1_valid,input2_valid],label_valid),\n",
    "    batch_size=128,\n",
    "    epochs=200,\n",
    "    class_weight = {0:0.5,1:0.5},   # I have 20% positive and 80% negative in my training data\n",
    "    callbacks = [callback_val,callback_train])"
   ]
  },
  {
   "cell_type": "code",
   "execution_count": null,
   "id": "cc8af822",
   "metadata": {},
   "outputs": [],
   "source": [
    "# input1 = np.empty([len(dataset),10,12,1])\n",
    "# input2 = np.empty([len(dataset),64,12,1])\n",
    "# label = np.empty([len(dataset),1])\n",
    "# for i in range(len(dataset)):\n",
    "#     input1[i,:,:,:] = dataset[i][0]\n",
    "#     input2[i,:,:,:] = dataset[i][1]\n",
    "#     label[i,:] = dataset[i][2]"
   ]
  },
  {
   "cell_type": "code",
   "execution_count": null,
   "id": "20cf4bc6",
   "metadata": {},
   "outputs": [],
   "source": [
    "input1.shape"
   ]
  },
  {
   "cell_type": "code",
   "execution_count": null,
   "id": "4d1b7687",
   "metadata": {},
   "outputs": [],
   "source": [
    "input2.shape"
   ]
  },
  {
   "cell_type": "code",
   "execution_count": null,
   "id": "b167d21f",
   "metadata": {},
   "outputs": [],
   "source": [
    "label.shape"
   ]
  },
  {
   "cell_type": "code",
   "execution_count": null,
   "id": "9799e8df",
   "metadata": {},
   "outputs": [],
   "source": []
  },
  {
   "cell_type": "code",
   "execution_count": null,
   "id": "0a9efdde",
   "metadata": {},
   "outputs": [],
   "source": []
  },
  {
   "cell_type": "code",
   "execution_count": null,
   "id": "64f79273",
   "metadata": {},
   "outputs": [],
   "source": [
    "# hla_dic = hla_df_to_dic(hla)\n",
    "# inventory = list(hla_dic.keys())\n",
    "# dic_inventory = dict_inventory(inventory)\n",
    "# dataset = construct_aaindex(ori, hla_dic, after_pca,dic_inventory)\n",
    "# input1 = pull_peptide_aaindex(dataset)\n",
    "# input2 = pull_hla_aaindex(dataset)\n",
    "# label = pull_label_aaindex_continuous(dataset)"
   ]
  },
  {
   "cell_type": "code",
   "execution_count": null,
   "id": "24df0f83",
   "metadata": {},
   "outputs": [],
   "source": []
  },
  {
   "cell_type": "code",
   "execution_count": null,
   "id": "9db02d61",
   "metadata": {},
   "outputs": [],
   "source": [
    "def buildCNN():\n",
    "    input_pep = keras.Input(shape=(10, 12, 1))\n",
    "    input_mhc = keras.Input(shape=(64, 12, 1))\n",
    "\n",
    "    x = layers.Conv2D(filters=16, kernel_size=(2, 12))(input_pep)  # 9\n",
    "    x = layers.BatchNormalization()(x)\n",
    "    x = keras.activations.relu(x)\n",
    "    x = layers.Conv2D(filters=32, kernel_size=(2, 1))(x)    # 8\n",
    "    x = layers.BatchNormalization()(x)\n",
    "    x = keras.activations.relu(x)\n",
    "    x = layers.MaxPool2D(pool_size=(2, 1), strides=(2, 1))(x)  # 4\n",
    "    x = layers.Flatten()(x)\n",
    "    x = keras.Model(inputs=input1, outputs=x)\n",
    "\n",
    "    y = layers.Conv2D(filters=16, kernel_size=(15, 12))(input2)     # 32\n",
    "    y = layers.BatchNormalization()(y)\n",
    "    y = keras.activations.relu(y)\n",
    "    y = layers.MaxPool2D(pool_size=(2, 1), strides=(2, 1))(y)  # 16\n",
    "    y = layers.Conv2D(filters=32,kernel_size=(9,1))(y)    # 8\n",
    "    y = layers.BatchNormalization()(y)\n",
    "    y = keras.activations.relu(y)\n",
    "    y = layers.MaxPool2D(pool_size=(2, 1),strides=(2,1))(y)  # 4\n",
    "    y = layers.Flatten()(y)\n",
    "    y = keras.Model(inputs=input2,outputs=y)\n",
    "\n",
    "    combined = layers.concatenate([x.output,y.output])\n",
    "    z = layers.Dense(128,activation='relu')(combined)\n",
    "    z = layers.Dropout(0.2)(z)\n",
    "    z = layers.Dense(1,activation='sigmoid')(z)\n",
    "\n",
    "    model = keras.Model(inputs=[input1,input2],outputs=z)\n",
    "    return model"
   ]
  }
 ],
 "metadata": {
  "kernelspec": {
   "display_name": "Python 3 (ipykernel)",
   "language": "python",
   "name": "python3"
  },
  "language_info": {
   "codemirror_mode": {
    "name": "ipython",
    "version": 3
   },
   "file_extension": ".py",
   "mimetype": "text/x-python",
   "name": "python",
   "nbconvert_exporter": "python",
   "pygments_lexer": "ipython3",
   "version": "3.10.9"
  }
 },
 "nbformat": 4,
 "nbformat_minor": 5
}
